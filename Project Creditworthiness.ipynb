{
 "cells": [
  {
   "cell_type": "markdown",
   "metadata": {},
   "source": [
    "## Predicting Default Risk\n",
    "\n",
    "## Abdullah Ficici"
   ]
  },
  {
   "cell_type": "markdown",
   "metadata": {},
   "source": [
    "# Business and Data Understanding"
   ]
  },
  {
   "cell_type": "markdown",
   "metadata": {},
   "source": [
    "## What decisions need to be made?\n",
    "I am a data scientist working for a small bank. This week the number of loan applications increased by 150% from 200/week to 500/week. \n",
    "\n",
    "The manager sees this new influx as a great opportunity and wants me to figure out how to process all of these loan applications within one week.\n",
    "\n",
    "I'll use Python libraries to process the loan applications. \n",
    "\n",
    "I will classify the loan applications as “Creditworthy” or “Not-Creditworthy” using Random Forest."
   ]
  },
  {
   "cell_type": "markdown",
   "metadata": {},
   "source": [
    "## What data is needed to inform those decisions?\n",
    "In order to predict the \"Creditworthy” customers, I need the data on all past applications to build\n",
    "and train the model. The past application data has the following features:\n",
    "\n",
    "“Credit-Application-Result”, “Account-Balance”, “Duration-of-Credit-Month”,\n",
    "\"Payment-Status-of-Previous-Credit”, “Purpose\", \"Credit-Amount\",\n",
    "\"Value-Savings-Stocks”, “Length-of-current-employment”, “Instalment-per-cent\",\n",
    "\"Guarantors\", \"Duration-in-Current-address\", \"Most-valuable-available-asset\",\n",
    "\"Age-years\", \"Concurrent-Credits\", \"Type-of-apartment\", \"No-of-Credits-at-this-Bank”,\n",
    "\"Occupation”, “No-of-dependents\", \"Telephone\", and \"Foreign-Worker”.\n",
    "After building the model, I will apply the model to new data on 500 new applications."
   ]
  },
  {
   "cell_type": "markdown",
   "metadata": {},
   "source": [
    "## What kind of model (Continuous, Binary, Non-Binary, Time-Series) do we need to use to help make these decisions?\n",
    "I'm going to classify new customers as “Creditworthy” or “Not-Creditworthy\".\n",
    "Since the problem has two answers i.e. \"Yes\" and \"No\", I'll go for Binary Classification model."
   ]
  },
  {
   "cell_type": "code",
   "execution_count": 1,
   "metadata": {
    "ExecuteTime": {
     "end_time": "2021-10-20T03:35:58.040603Z",
     "start_time": "2021-10-20T03:35:57.314080Z"
    }
   },
   "outputs": [],
   "source": [
    "import pandas as pd \n",
    "import numpy as np \n",
    "import matplotlib.pyplot as plt \n",
    "%matplotlib inline \n",
    "import seaborn as sns\n",
    "import warnings\n",
    "warnings.filterwarnings('ignore')\n",
    "warnings.simplefilter('ignore')\n",
    "warnings.filterwarnings(\"ignore\", category=DeprecationWarning) "
   ]
  },
  {
   "cell_type": "code",
   "execution_count": 2,
   "metadata": {
    "ExecuteTime": {
     "end_time": "2021-10-20T03:35:58.054747Z",
     "start_time": "2021-10-20T03:35:58.042904Z"
    }
   },
   "outputs": [],
   "source": [
    "training_data = pd.read_csv(\"credit-data-training.csv\")"
   ]
  },
  {
   "cell_type": "code",
   "execution_count": 3,
   "metadata": {
    "ExecuteTime": {
     "end_time": "2021-10-20T03:35:58.097129Z",
     "start_time": "2021-10-20T03:35:58.058244Z"
    }
   },
   "outputs": [
    {
     "data": {
      "text/html": [
       "<div>\n",
       "<style scoped>\n",
       "    .dataframe tbody tr th:only-of-type {\n",
       "        vertical-align: middle;\n",
       "    }\n",
       "\n",
       "    .dataframe tbody tr th {\n",
       "        vertical-align: top;\n",
       "    }\n",
       "\n",
       "    .dataframe thead th {\n",
       "        text-align: right;\n",
       "    }\n",
       "</style>\n",
       "<table border=\"1\" class=\"dataframe\">\n",
       "  <thead>\n",
       "    <tr style=\"text-align: right;\">\n",
       "      <th></th>\n",
       "      <th>Credit-Application-Result</th>\n",
       "      <th>Account-Balance</th>\n",
       "      <th>Duration-of-Credit-Month</th>\n",
       "      <th>Payment-Status-of-Previous-Credit</th>\n",
       "      <th>Purpose</th>\n",
       "      <th>Credit-Amount</th>\n",
       "      <th>Value-Savings-Stocks</th>\n",
       "      <th>Length-of-current-employment</th>\n",
       "      <th>Instalment-per-cent</th>\n",
       "      <th>Guarantors</th>\n",
       "      <th>Duration-in-Current-address</th>\n",
       "      <th>Most-valuable-available-asset</th>\n",
       "      <th>Age-years</th>\n",
       "      <th>Concurrent-Credits</th>\n",
       "      <th>Type-of-apartment</th>\n",
       "      <th>No-of-Credits-at-this-Bank</th>\n",
       "      <th>Occupation</th>\n",
       "      <th>No-of-dependents</th>\n",
       "      <th>Telephone</th>\n",
       "      <th>Foreign-Worker</th>\n",
       "    </tr>\n",
       "  </thead>\n",
       "  <tbody>\n",
       "    <tr>\n",
       "      <th>0</th>\n",
       "      <td>Creditworthy</td>\n",
       "      <td>Some Balance</td>\n",
       "      <td>4</td>\n",
       "      <td>Paid Up</td>\n",
       "      <td>Other</td>\n",
       "      <td>1494</td>\n",
       "      <td>£100-£1000</td>\n",
       "      <td>&lt; 1yr</td>\n",
       "      <td>1</td>\n",
       "      <td>None</td>\n",
       "      <td>2.0</td>\n",
       "      <td>1</td>\n",
       "      <td>NaN</td>\n",
       "      <td>Other Banks/Depts</td>\n",
       "      <td>2</td>\n",
       "      <td>1</td>\n",
       "      <td>1</td>\n",
       "      <td>2</td>\n",
       "      <td>1</td>\n",
       "      <td>2</td>\n",
       "    </tr>\n",
       "    <tr>\n",
       "      <th>1</th>\n",
       "      <td>Creditworthy</td>\n",
       "      <td>Some Balance</td>\n",
       "      <td>4</td>\n",
       "      <td>Paid Up</td>\n",
       "      <td>Home Related</td>\n",
       "      <td>1494</td>\n",
       "      <td>£100-£1000</td>\n",
       "      <td>&lt; 1yr</td>\n",
       "      <td>1</td>\n",
       "      <td>None</td>\n",
       "      <td>2.0</td>\n",
       "      <td>1</td>\n",
       "      <td>29.0</td>\n",
       "      <td>Other Banks/Depts</td>\n",
       "      <td>2</td>\n",
       "      <td>1</td>\n",
       "      <td>1</td>\n",
       "      <td>2</td>\n",
       "      <td>1</td>\n",
       "      <td>2</td>\n",
       "    </tr>\n",
       "    <tr>\n",
       "      <th>2</th>\n",
       "      <td>Creditworthy</td>\n",
       "      <td>Some Balance</td>\n",
       "      <td>4</td>\n",
       "      <td>No Problems (in this bank)</td>\n",
       "      <td>Home Related</td>\n",
       "      <td>1544</td>\n",
       "      <td>None</td>\n",
       "      <td>1-4 yrs</td>\n",
       "      <td>2</td>\n",
       "      <td>None</td>\n",
       "      <td>1.0</td>\n",
       "      <td>1</td>\n",
       "      <td>42.0</td>\n",
       "      <td>Other Banks/Depts</td>\n",
       "      <td>2</td>\n",
       "      <td>More than 1</td>\n",
       "      <td>1</td>\n",
       "      <td>2</td>\n",
       "      <td>1</td>\n",
       "      <td>1</td>\n",
       "    </tr>\n",
       "    <tr>\n",
       "      <th>3</th>\n",
       "      <td>Creditworthy</td>\n",
       "      <td>Some Balance</td>\n",
       "      <td>4</td>\n",
       "      <td>No Problems (in this bank)</td>\n",
       "      <td>Home Related</td>\n",
       "      <td>3380</td>\n",
       "      <td>None</td>\n",
       "      <td>1-4 yrs</td>\n",
       "      <td>1</td>\n",
       "      <td>None</td>\n",
       "      <td>1.0</td>\n",
       "      <td>1</td>\n",
       "      <td>37.0</td>\n",
       "      <td>Other Banks/Depts</td>\n",
       "      <td>2</td>\n",
       "      <td>1</td>\n",
       "      <td>1</td>\n",
       "      <td>2</td>\n",
       "      <td>1</td>\n",
       "      <td>1</td>\n",
       "    </tr>\n",
       "    <tr>\n",
       "      <th>4</th>\n",
       "      <td>Creditworthy</td>\n",
       "      <td>No Account</td>\n",
       "      <td>6</td>\n",
       "      <td>Paid Up</td>\n",
       "      <td>Home Related</td>\n",
       "      <td>343</td>\n",
       "      <td>None</td>\n",
       "      <td>&lt; 1yr</td>\n",
       "      <td>4</td>\n",
       "      <td>None</td>\n",
       "      <td>1.0</td>\n",
       "      <td>1</td>\n",
       "      <td>27.0</td>\n",
       "      <td>Other Banks/Depts</td>\n",
       "      <td>2</td>\n",
       "      <td>1</td>\n",
       "      <td>1</td>\n",
       "      <td>1</td>\n",
       "      <td>1</td>\n",
       "      <td>1</td>\n",
       "    </tr>\n",
       "  </tbody>\n",
       "</table>\n",
       "</div>"
      ],
      "text/plain": [
       "  Credit-Application-Result Account-Balance  Duration-of-Credit-Month  \\\n",
       "0              Creditworthy    Some Balance                         4   \n",
       "1              Creditworthy    Some Balance                         4   \n",
       "2              Creditworthy    Some Balance                         4   \n",
       "3              Creditworthy    Some Balance                         4   \n",
       "4              Creditworthy      No Account                         6   \n",
       "\n",
       "  Payment-Status-of-Previous-Credit       Purpose  Credit-Amount  \\\n",
       "0                           Paid Up         Other           1494   \n",
       "1                           Paid Up  Home Related           1494   \n",
       "2        No Problems (in this bank)  Home Related           1544   \n",
       "3        No Problems (in this bank)  Home Related           3380   \n",
       "4                           Paid Up  Home Related            343   \n",
       "\n",
       "  Value-Savings-Stocks Length-of-current-employment  Instalment-per-cent  \\\n",
       "0           £100-£1000                        < 1yr                    1   \n",
       "1           £100-£1000                        < 1yr                    1   \n",
       "2                 None                      1-4 yrs                    2   \n",
       "3                 None                      1-4 yrs                    1   \n",
       "4                 None                        < 1yr                    4   \n",
       "\n",
       "  Guarantors  Duration-in-Current-address  Most-valuable-available-asset  \\\n",
       "0       None                          2.0                              1   \n",
       "1       None                          2.0                              1   \n",
       "2       None                          1.0                              1   \n",
       "3       None                          1.0                              1   \n",
       "4       None                          1.0                              1   \n",
       "\n",
       "   Age-years Concurrent-Credits  Type-of-apartment No-of-Credits-at-this-Bank  \\\n",
       "0        NaN  Other Banks/Depts                  2                          1   \n",
       "1       29.0  Other Banks/Depts                  2                          1   \n",
       "2       42.0  Other Banks/Depts                  2                More than 1   \n",
       "3       37.0  Other Banks/Depts                  2                          1   \n",
       "4       27.0  Other Banks/Depts                  2                          1   \n",
       "\n",
       "   Occupation  No-of-dependents  Telephone  Foreign-Worker  \n",
       "0           1                 2          1               2  \n",
       "1           1                 2          1               2  \n",
       "2           1                 2          1               1  \n",
       "3           1                 2          1               1  \n",
       "4           1                 1          1               1  "
      ]
     },
     "execution_count": 3,
     "metadata": {},
     "output_type": "execute_result"
    }
   ],
   "source": [
    "training_data.head()"
   ]
  },
  {
   "cell_type": "code",
   "execution_count": 4,
   "metadata": {
    "ExecuteTime": {
     "end_time": "2021-10-20T03:35:58.105934Z",
     "start_time": "2021-10-20T03:35:58.100991Z"
    }
   },
   "outputs": [
    {
     "data": {
      "text/plain": [
       "(500, 20)"
      ]
     },
     "execution_count": 4,
     "metadata": {},
     "output_type": "execute_result"
    }
   ],
   "source": [
    "training_data.shape"
   ]
  },
  {
   "cell_type": "code",
   "execution_count": 5,
   "metadata": {
    "ExecuteTime": {
     "end_time": "2021-10-20T03:35:58.120919Z",
     "start_time": "2021-10-20T03:35:58.107621Z"
    }
   },
   "outputs": [
    {
     "name": "stdout",
     "output_type": "stream",
     "text": [
      "<class 'pandas.core.frame.DataFrame'>\n",
      "RangeIndex: 500 entries, 0 to 499\n",
      "Data columns (total 20 columns):\n",
      " #   Column                             Non-Null Count  Dtype  \n",
      "---  ------                             --------------  -----  \n",
      " 0   Credit-Application-Result          500 non-null    object \n",
      " 1   Account-Balance                    500 non-null    object \n",
      " 2   Duration-of-Credit-Month           500 non-null    int64  \n",
      " 3   Payment-Status-of-Previous-Credit  500 non-null    object \n",
      " 4   Purpose                            500 non-null    object \n",
      " 5   Credit-Amount                      500 non-null    int64  \n",
      " 6   Value-Savings-Stocks               500 non-null    object \n",
      " 7   Length-of-current-employment       500 non-null    object \n",
      " 8   Instalment-per-cent                500 non-null    int64  \n",
      " 9   Guarantors                         500 non-null    object \n",
      " 10  Duration-in-Current-address        156 non-null    float64\n",
      " 11  Most-valuable-available-asset      500 non-null    int64  \n",
      " 12  Age-years                          488 non-null    float64\n",
      " 13  Concurrent-Credits                 500 non-null    object \n",
      " 14  Type-of-apartment                  500 non-null    int64  \n",
      " 15  No-of-Credits-at-this-Bank         500 non-null    object \n",
      " 16  Occupation                         500 non-null    int64  \n",
      " 17  No-of-dependents                   500 non-null    int64  \n",
      " 18  Telephone                          500 non-null    int64  \n",
      " 19  Foreign-Worker                     500 non-null    int64  \n",
      "dtypes: float64(2), int64(9), object(9)\n",
      "memory usage: 78.2+ KB\n"
     ]
    }
   ],
   "source": [
    "training_data.info()"
   ]
  },
  {
   "cell_type": "code",
   "execution_count": 6,
   "metadata": {
    "ExecuteTime": {
     "end_time": "2021-10-20T03:35:58.161642Z",
     "start_time": "2021-10-20T03:35:58.123112Z"
    }
   },
   "outputs": [
    {
     "data": {
      "text/html": [
       "<div>\n",
       "<style scoped>\n",
       "    .dataframe tbody tr th:only-of-type {\n",
       "        vertical-align: middle;\n",
       "    }\n",
       "\n",
       "    .dataframe tbody tr th {\n",
       "        vertical-align: top;\n",
       "    }\n",
       "\n",
       "    .dataframe thead th {\n",
       "        text-align: right;\n",
       "    }\n",
       "</style>\n",
       "<table border=\"1\" class=\"dataframe\">\n",
       "  <thead>\n",
       "    <tr style=\"text-align: right;\">\n",
       "      <th></th>\n",
       "      <th>Duration-of-Credit-Month</th>\n",
       "      <th>Credit-Amount</th>\n",
       "      <th>Instalment-per-cent</th>\n",
       "      <th>Duration-in-Current-address</th>\n",
       "      <th>Most-valuable-available-asset</th>\n",
       "      <th>Age-years</th>\n",
       "      <th>Type-of-apartment</th>\n",
       "      <th>Occupation</th>\n",
       "      <th>No-of-dependents</th>\n",
       "      <th>Telephone</th>\n",
       "      <th>Foreign-Worker</th>\n",
       "    </tr>\n",
       "  </thead>\n",
       "  <tbody>\n",
       "    <tr>\n",
       "      <th>count</th>\n",
       "      <td>500.00000</td>\n",
       "      <td>500.000000</td>\n",
       "      <td>500.000000</td>\n",
       "      <td>156.000000</td>\n",
       "      <td>500.000000</td>\n",
       "      <td>488.000000</td>\n",
       "      <td>500.000000</td>\n",
       "      <td>500.0</td>\n",
       "      <td>500.00000</td>\n",
       "      <td>500.000000</td>\n",
       "      <td>500.000000</td>\n",
       "    </tr>\n",
       "    <tr>\n",
       "      <th>mean</th>\n",
       "      <td>21.43400</td>\n",
       "      <td>3199.980000</td>\n",
       "      <td>3.010000</td>\n",
       "      <td>2.660256</td>\n",
       "      <td>2.360000</td>\n",
       "      <td>35.637295</td>\n",
       "      <td>1.928000</td>\n",
       "      <td>1.0</td>\n",
       "      <td>1.14600</td>\n",
       "      <td>1.400000</td>\n",
       "      <td>1.038000</td>\n",
       "    </tr>\n",
       "    <tr>\n",
       "      <th>std</th>\n",
       "      <td>12.30742</td>\n",
       "      <td>2831.386861</td>\n",
       "      <td>1.113724</td>\n",
       "      <td>1.150017</td>\n",
       "      <td>1.064268</td>\n",
       "      <td>11.501522</td>\n",
       "      <td>0.539814</td>\n",
       "      <td>0.0</td>\n",
       "      <td>0.35346</td>\n",
       "      <td>0.490389</td>\n",
       "      <td>0.191388</td>\n",
       "    </tr>\n",
       "    <tr>\n",
       "      <th>min</th>\n",
       "      <td>4.00000</td>\n",
       "      <td>276.000000</td>\n",
       "      <td>1.000000</td>\n",
       "      <td>1.000000</td>\n",
       "      <td>1.000000</td>\n",
       "      <td>19.000000</td>\n",
       "      <td>1.000000</td>\n",
       "      <td>1.0</td>\n",
       "      <td>1.00000</td>\n",
       "      <td>1.000000</td>\n",
       "      <td>1.000000</td>\n",
       "    </tr>\n",
       "    <tr>\n",
       "      <th>25%</th>\n",
       "      <td>12.00000</td>\n",
       "      <td>1357.250000</td>\n",
       "      <td>2.000000</td>\n",
       "      <td>2.000000</td>\n",
       "      <td>1.000000</td>\n",
       "      <td>27.000000</td>\n",
       "      <td>2.000000</td>\n",
       "      <td>1.0</td>\n",
       "      <td>1.00000</td>\n",
       "      <td>1.000000</td>\n",
       "      <td>1.000000</td>\n",
       "    </tr>\n",
       "    <tr>\n",
       "      <th>50%</th>\n",
       "      <td>18.00000</td>\n",
       "      <td>2236.500000</td>\n",
       "      <td>3.000000</td>\n",
       "      <td>2.000000</td>\n",
       "      <td>3.000000</td>\n",
       "      <td>33.000000</td>\n",
       "      <td>2.000000</td>\n",
       "      <td>1.0</td>\n",
       "      <td>1.00000</td>\n",
       "      <td>1.000000</td>\n",
       "      <td>1.000000</td>\n",
       "    </tr>\n",
       "    <tr>\n",
       "      <th>75%</th>\n",
       "      <td>24.00000</td>\n",
       "      <td>3941.500000</td>\n",
       "      <td>4.000000</td>\n",
       "      <td>4.000000</td>\n",
       "      <td>3.000000</td>\n",
       "      <td>42.000000</td>\n",
       "      <td>2.000000</td>\n",
       "      <td>1.0</td>\n",
       "      <td>1.00000</td>\n",
       "      <td>2.000000</td>\n",
       "      <td>1.000000</td>\n",
       "    </tr>\n",
       "    <tr>\n",
       "      <th>max</th>\n",
       "      <td>60.00000</td>\n",
       "      <td>18424.000000</td>\n",
       "      <td>4.000000</td>\n",
       "      <td>4.000000</td>\n",
       "      <td>4.000000</td>\n",
       "      <td>75.000000</td>\n",
       "      <td>3.000000</td>\n",
       "      <td>1.0</td>\n",
       "      <td>2.00000</td>\n",
       "      <td>2.000000</td>\n",
       "      <td>2.000000</td>\n",
       "    </tr>\n",
       "  </tbody>\n",
       "</table>\n",
       "</div>"
      ],
      "text/plain": [
       "       Duration-of-Credit-Month  Credit-Amount  Instalment-per-cent  \\\n",
       "count                 500.00000     500.000000           500.000000   \n",
       "mean                   21.43400    3199.980000             3.010000   \n",
       "std                    12.30742    2831.386861             1.113724   \n",
       "min                     4.00000     276.000000             1.000000   \n",
       "25%                    12.00000    1357.250000             2.000000   \n",
       "50%                    18.00000    2236.500000             3.000000   \n",
       "75%                    24.00000    3941.500000             4.000000   \n",
       "max                    60.00000   18424.000000             4.000000   \n",
       "\n",
       "       Duration-in-Current-address  Most-valuable-available-asset   Age-years  \\\n",
       "count                   156.000000                     500.000000  488.000000   \n",
       "mean                      2.660256                       2.360000   35.637295   \n",
       "std                       1.150017                       1.064268   11.501522   \n",
       "min                       1.000000                       1.000000   19.000000   \n",
       "25%                       2.000000                       1.000000   27.000000   \n",
       "50%                       2.000000                       3.000000   33.000000   \n",
       "75%                       4.000000                       3.000000   42.000000   \n",
       "max                       4.000000                       4.000000   75.000000   \n",
       "\n",
       "       Type-of-apartment  Occupation  No-of-dependents   Telephone  \\\n",
       "count         500.000000       500.0         500.00000  500.000000   \n",
       "mean            1.928000         1.0           1.14600    1.400000   \n",
       "std             0.539814         0.0           0.35346    0.490389   \n",
       "min             1.000000         1.0           1.00000    1.000000   \n",
       "25%             2.000000         1.0           1.00000    1.000000   \n",
       "50%             2.000000         1.0           1.00000    1.000000   \n",
       "75%             2.000000         1.0           1.00000    2.000000   \n",
       "max             3.000000         1.0           2.00000    2.000000   \n",
       "\n",
       "       Foreign-Worker  \n",
       "count      500.000000  \n",
       "mean         1.038000  \n",
       "std          0.191388  \n",
       "min          1.000000  \n",
       "25%          1.000000  \n",
       "50%          1.000000  \n",
       "75%          1.000000  \n",
       "max          2.000000  "
      ]
     },
     "execution_count": 6,
     "metadata": {},
     "output_type": "execute_result"
    }
   ],
   "source": [
    "training_data.describe()"
   ]
  },
  {
   "cell_type": "markdown",
   "metadata": {},
   "source": [
    "## Building the Training Set\n",
    "Here are some guidelines to help guide data cleanup:\n",
    "\n",
    "●\tFor numerical data fields, are there any fields that highly-correlate with each other? The correlation should be at least .70 to be considered “high”.\n",
    "\n",
    "●\tAre there any missing data for each of the data fields? Fields with a lot of missing data should be removed\n",
    "\n",
    "●\tAre there only a few values in a subset of your data field? Does the data field look very uniform (there is only one value for the entire field?). This is called “low variability” and I will remove fields that have low variability. \n",
    "\n",
    "I will impute data using the median of the entire data field instead of removing a few data points."
   ]
  },
  {
   "cell_type": "markdown",
   "metadata": {},
   "source": [
    "## Missing Values"
   ]
  },
  {
   "cell_type": "code",
   "execution_count": 7,
   "metadata": {
    "ExecuteTime": {
     "end_time": "2021-10-20T03:35:59.695212Z",
     "start_time": "2021-10-20T03:35:59.688840Z"
    }
   },
   "outputs": [
    {
     "data": {
      "text/plain": [
       "Credit-Application-Result              0\n",
       "Account-Balance                        0\n",
       "Duration-of-Credit-Month               0\n",
       "Payment-Status-of-Previous-Credit      0\n",
       "Purpose                                0\n",
       "Credit-Amount                          0\n",
       "Value-Savings-Stocks                   0\n",
       "Length-of-current-employment           0\n",
       "Instalment-per-cent                    0\n",
       "Guarantors                             0\n",
       "Duration-in-Current-address          344\n",
       "Most-valuable-available-asset          0\n",
       "Age-years                             12\n",
       "Concurrent-Credits                     0\n",
       "Type-of-apartment                      0\n",
       "No-of-Credits-at-this-Bank             0\n",
       "Occupation                             0\n",
       "No-of-dependents                       0\n",
       "Telephone                              0\n",
       "Foreign-Worker                         0\n",
       "dtype: int64"
      ]
     },
     "execution_count": 7,
     "metadata": {},
     "output_type": "execute_result"
    }
   ],
   "source": [
    "training_data.isnull().sum()"
   ]
  },
  {
   "cell_type": "code",
   "execution_count": 8,
   "metadata": {
    "ExecuteTime": {
     "end_time": "2021-10-20T03:35:59.704311Z",
     "start_time": "2021-10-20T03:35:59.696976Z"
    }
   },
   "outputs": [
    {
     "data": {
      "text/plain": [
       "Credit-Application-Result             0.0\n",
       "Account-Balance                       0.0\n",
       "Duration-of-Credit-Month              0.0\n",
       "Payment-Status-of-Previous-Credit     0.0\n",
       "Purpose                               0.0\n",
       "Credit-Amount                         0.0\n",
       "Value-Savings-Stocks                  0.0\n",
       "Length-of-current-employment          0.0\n",
       "Instalment-per-cent                   0.0\n",
       "Guarantors                            0.0\n",
       "Duration-in-Current-address          68.8\n",
       "Most-valuable-available-asset         0.0\n",
       "Age-years                             2.4\n",
       "Concurrent-Credits                    0.0\n",
       "Type-of-apartment                     0.0\n",
       "No-of-Credits-at-this-Bank            0.0\n",
       "Occupation                            0.0\n",
       "No-of-dependents                      0.0\n",
       "Telephone                             0.0\n",
       "Foreign-Worker                        0.0\n",
       "dtype: float64"
      ]
     },
     "execution_count": 8,
     "metadata": {},
     "output_type": "execute_result"
    }
   ],
   "source": [
    "percent_missing = training_data.isnull().sum() * 100 / len(training_data)\n",
    "percent_missing"
   ]
  },
  {
   "cell_type": "code",
   "execution_count": 9,
   "metadata": {
    "ExecuteTime": {
     "end_time": "2021-10-20T03:36:01.985918Z",
     "start_time": "2021-10-20T03:36:00.970863Z"
    }
   },
   "outputs": [
    {
     "data": {
      "image/png": "[encoded data removed]",
      "text/plain": [
       "<Figure size 1152x864 with 12 Axes>"
      ]
     },
     "metadata": {
      "needs_background": "light"
     },
     "output_type": "display_data"
    }
   ],
   "source": [
    "fig = plt.figure(figsize = (16,12))\n",
    "ax = fig.gca()\n",
    "training_data.hist(ax=ax)\n",
    "plt.show()"
   ]
  },
  {
   "cell_type": "code",
   "execution_count": 10,
   "metadata": {
    "ExecuteTime": {
     "end_time": "2021-10-20T03:36:00.916929Z",
     "start_time": "2021-10-20T03:36:00.912807Z"
    }
   },
   "outputs": [],
   "source": [
    "training_data = training_data.drop(['Duration-in-Current-address', 'Foreign-Worker', 'Concurrent-Credits', 'Guarantors', 'Occupation','No-of-dependents'], axis=1)"
   ]
  },
  {
   "cell_type": "code",
   "execution_count": 11,
   "metadata": {
    "ExecuteTime": {
     "end_time": "2021-10-20T03:36:00.916929Z",
     "start_time": "2021-10-20T03:36:00.912807Z"
    }
   },
   "outputs": [
    {
     "data": {
      "text/plain": [
       "(500, 14)"
      ]
     },
     "execution_count": 11,
     "metadata": {},
     "output_type": "execute_result"
    }
   ],
   "source": [
    "training_data.shape"
   ]
  },
  {
   "cell_type": "code",
   "execution_count": 12,
   "metadata": {
    "ExecuteTime": {
     "end_time": "2021-10-20T03:36:00.921983Z",
     "start_time": "2021-10-20T03:36:00.918563Z"
    }
   },
   "outputs": [
    {
     "data": {
      "text/plain": [
       "33.0"
      ]
     },
     "execution_count": 12,
     "metadata": {},
     "output_type": "execute_result"
    }
   ],
   "source": [
    "training_data['Age-years'].median()"
   ]
  },
  {
   "cell_type": "code",
   "execution_count": 13,
   "metadata": {
    "ExecuteTime": {
     "end_time": "2021-10-20T03:36:00.968531Z",
     "start_time": "2021-10-20T03:36:00.933676Z"
    }
   },
   "outputs": [],
   "source": [
    "training_data = training_data.fillna(training_data.median())"
   ]
  },
  {
   "cell_type": "markdown",
   "metadata": {},
   "source": [
    "- The field “Duration-in-Current-address\" has 68.8% missing values, so it is removed. \n",
    "\n",
    "- The fields 'Foreign-Worker', 'Concurrent-Credits', 'Guarantors', \"Ocupation', and 'No-of-dependents' have low variability, they are removed. \n",
    "\n",
    "- The \"Age-years” variable has 2.4% of missing values, they are imputed with median 33."
   ]
  },
  {
   "cell_type": "code",
   "execution_count": 14,
   "metadata": {},
   "outputs": [
    {
     "data": {
      "text/html": [
       "<div>\n",
       "<style scoped>\n",
       "    .dataframe tbody tr th:only-of-type {\n",
       "        vertical-align: middle;\n",
       "    }\n",
       "\n",
       "    .dataframe tbody tr th {\n",
       "        vertical-align: top;\n",
       "    }\n",
       "\n",
       "    .dataframe thead th {\n",
       "        text-align: right;\n",
       "    }\n",
       "</style>\n",
       "<table border=\"1\" class=\"dataframe\">\n",
       "  <thead>\n",
       "    <tr style=\"text-align: right;\">\n",
       "      <th></th>\n",
       "      <th>Credit-Application-Result</th>\n",
       "      <th>Account-Balance</th>\n",
       "      <th>Duration-of-Credit-Month</th>\n",
       "      <th>Payment-Status-of-Previous-Credit</th>\n",
       "      <th>Purpose</th>\n",
       "      <th>Credit-Amount</th>\n",
       "      <th>Value-Savings-Stocks</th>\n",
       "      <th>Length-of-current-employment</th>\n",
       "      <th>Instalment-per-cent</th>\n",
       "      <th>Most-valuable-available-asset</th>\n",
       "      <th>Age-years</th>\n",
       "      <th>Type-of-apartment</th>\n",
       "      <th>No-of-Credits-at-this-Bank</th>\n",
       "      <th>Telephone</th>\n",
       "    </tr>\n",
       "  </thead>\n",
       "  <tbody>\n",
       "    <tr>\n",
       "      <th>0</th>\n",
       "      <td>Creditworthy</td>\n",
       "      <td>Some Balance</td>\n",
       "      <td>4</td>\n",
       "      <td>Paid Up</td>\n",
       "      <td>Other</td>\n",
       "      <td>1494</td>\n",
       "      <td>£100-£1000</td>\n",
       "      <td>&lt; 1yr</td>\n",
       "      <td>1</td>\n",
       "      <td>1</td>\n",
       "      <td>33.0</td>\n",
       "      <td>2</td>\n",
       "      <td>1</td>\n",
       "      <td>1</td>\n",
       "    </tr>\n",
       "    <tr>\n",
       "      <th>1</th>\n",
       "      <td>Creditworthy</td>\n",
       "      <td>Some Balance</td>\n",
       "      <td>4</td>\n",
       "      <td>Paid Up</td>\n",
       "      <td>Home Related</td>\n",
       "      <td>1494</td>\n",
       "      <td>£100-£1000</td>\n",
       "      <td>&lt; 1yr</td>\n",
       "      <td>1</td>\n",
       "      <td>1</td>\n",
       "      <td>29.0</td>\n",
       "      <td>2</td>\n",
       "      <td>1</td>\n",
       "      <td>1</td>\n",
       "    </tr>\n",
       "    <tr>\n",
       "      <th>2</th>\n",
       "      <td>Creditworthy</td>\n",
       "      <td>Some Balance</td>\n",
       "      <td>4</td>\n",
       "      <td>No Problems (in this bank)</td>\n",
       "      <td>Home Related</td>\n",
       "      <td>1544</td>\n",
       "      <td>None</td>\n",
       "      <td>1-4 yrs</td>\n",
       "      <td>2</td>\n",
       "      <td>1</td>\n",
       "      <td>42.0</td>\n",
       "      <td>2</td>\n",
       "      <td>More than 1</td>\n",
       "      <td>1</td>\n",
       "    </tr>\n",
       "    <tr>\n",
       "      <th>3</th>\n",
       "      <td>Creditworthy</td>\n",
       "      <td>Some Balance</td>\n",
       "      <td>4</td>\n",
       "      <td>No Problems (in this bank)</td>\n",
       "      <td>Home Related</td>\n",
       "      <td>3380</td>\n",
       "      <td>None</td>\n",
       "      <td>1-4 yrs</td>\n",
       "      <td>1</td>\n",
       "      <td>1</td>\n",
       "      <td>37.0</td>\n",
       "      <td>2</td>\n",
       "      <td>1</td>\n",
       "      <td>1</td>\n",
       "    </tr>\n",
       "    <tr>\n",
       "      <th>4</th>\n",
       "      <td>Creditworthy</td>\n",
       "      <td>No Account</td>\n",
       "      <td>6</td>\n",
       "      <td>Paid Up</td>\n",
       "      <td>Home Related</td>\n",
       "      <td>343</td>\n",
       "      <td>None</td>\n",
       "      <td>&lt; 1yr</td>\n",
       "      <td>4</td>\n",
       "      <td>1</td>\n",
       "      <td>27.0</td>\n",
       "      <td>2</td>\n",
       "      <td>1</td>\n",
       "      <td>1</td>\n",
       "    </tr>\n",
       "  </tbody>\n",
       "</table>\n",
       "</div>"
      ],
      "text/plain": [
       "  Credit-Application-Result Account-Balance  Duration-of-Credit-Month  \\\n",
       "0              Creditworthy    Some Balance                         4   \n",
       "1              Creditworthy    Some Balance                         4   \n",
       "2              Creditworthy    Some Balance                         4   \n",
       "3              Creditworthy    Some Balance                         4   \n",
       "4              Creditworthy      No Account                         6   \n",
       "\n",
       "  Payment-Status-of-Previous-Credit       Purpose  Credit-Amount  \\\n",
       "0                           Paid Up         Other           1494   \n",
       "1                           Paid Up  Home Related           1494   \n",
       "2        No Problems (in this bank)  Home Related           1544   \n",
       "3        No Problems (in this bank)  Home Related           3380   \n",
       "4                           Paid Up  Home Related            343   \n",
       "\n",
       "  Value-Savings-Stocks Length-of-current-employment  Instalment-per-cent  \\\n",
       "0           £100-£1000                        < 1yr                    1   \n",
       "1           £100-£1000                        < 1yr                    1   \n",
       "2                 None                      1-4 yrs                    2   \n",
       "3                 None                      1-4 yrs                    1   \n",
       "4                 None                        < 1yr                    4   \n",
       "\n",
       "   Most-valuable-available-asset  Age-years  Type-of-apartment  \\\n",
       "0                              1       33.0                  2   \n",
       "1                              1       29.0                  2   \n",
       "2                              1       42.0                  2   \n",
       "3                              1       37.0                  2   \n",
       "4                              1       27.0                  2   \n",
       "\n",
       "  No-of-Credits-at-this-Bank  Telephone  \n",
       "0                          1          1  \n",
       "1                          1          1  \n",
       "2                More than 1          1  \n",
       "3                          1          1  \n",
       "4                          1          1  "
      ]
     },
     "execution_count": 14,
     "metadata": {},
     "output_type": "execute_result"
    }
   ],
   "source": [
    "training_data.head()"
   ]
  },
  {
   "cell_type": "markdown",
   "metadata": {},
   "source": [
    "## Feature Selection"
   ]
  },
  {
   "cell_type": "code",
   "execution_count": 15,
   "metadata": {
    "ExecuteTime": {
     "end_time": "2021-10-20T03:36:41.366076Z",
     "start_time": "2021-10-20T03:36:41.351426Z"
    }
   },
   "outputs": [
    {
     "data": {
      "text/html": [
       "<div>\n",
       "<style scoped>\n",
       "    .dataframe tbody tr th:only-of-type {\n",
       "        vertical-align: middle;\n",
       "    }\n",
       "\n",
       "    .dataframe tbody tr th {\n",
       "        vertical-align: top;\n",
       "    }\n",
       "\n",
       "    .dataframe thead th {\n",
       "        text-align: right;\n",
       "    }\n",
       "</style>\n",
       "<table border=\"1\" class=\"dataframe\">\n",
       "  <thead>\n",
       "    <tr style=\"text-align: right;\">\n",
       "      <th></th>\n",
       "      <th>Credit-Application-Result</th>\n",
       "      <th>Account-Balance</th>\n",
       "      <th>Duration-of-Credit-Month</th>\n",
       "      <th>Payment-Status-of-Previous-Credit</th>\n",
       "      <th>Purpose</th>\n",
       "      <th>Credit-Amount</th>\n",
       "      <th>Value-Savings-Stocks</th>\n",
       "      <th>Length-of-current-employment</th>\n",
       "      <th>Instalment-per-cent</th>\n",
       "      <th>Most-valuable-available-asset</th>\n",
       "      <th>Age-years</th>\n",
       "      <th>Type-of-apartment</th>\n",
       "      <th>No-of-Credits-at-this-Bank</th>\n",
       "      <th>Telephone</th>\n",
       "    </tr>\n",
       "  </thead>\n",
       "  <tbody>\n",
       "    <tr>\n",
       "      <th>0</th>\n",
       "      <td>Creditworthy</td>\n",
       "      <td>Some Balance</td>\n",
       "      <td>4</td>\n",
       "      <td>Paid Up</td>\n",
       "      <td>Other</td>\n",
       "      <td>1494</td>\n",
       "      <td>£100-£1000</td>\n",
       "      <td>&lt; 1yr</td>\n",
       "      <td>1</td>\n",
       "      <td>1</td>\n",
       "      <td>33.0</td>\n",
       "      <td>2</td>\n",
       "      <td>1</td>\n",
       "      <td>1</td>\n",
       "    </tr>\n",
       "    <tr>\n",
       "      <th>1</th>\n",
       "      <td>Creditworthy</td>\n",
       "      <td>Some Balance</td>\n",
       "      <td>4</td>\n",
       "      <td>Paid Up</td>\n",
       "      <td>Home Related</td>\n",
       "      <td>1494</td>\n",
       "      <td>£100-£1000</td>\n",
       "      <td>&lt; 1yr</td>\n",
       "      <td>1</td>\n",
       "      <td>1</td>\n",
       "      <td>29.0</td>\n",
       "      <td>2</td>\n",
       "      <td>1</td>\n",
       "      <td>1</td>\n",
       "    </tr>\n",
       "    <tr>\n",
       "      <th>2</th>\n",
       "      <td>Creditworthy</td>\n",
       "      <td>Some Balance</td>\n",
       "      <td>4</td>\n",
       "      <td>No Problems (in this bank)</td>\n",
       "      <td>Home Related</td>\n",
       "      <td>1544</td>\n",
       "      <td>None</td>\n",
       "      <td>1-4 yrs</td>\n",
       "      <td>2</td>\n",
       "      <td>1</td>\n",
       "      <td>42.0</td>\n",
       "      <td>2</td>\n",
       "      <td>More than 1</td>\n",
       "      <td>1</td>\n",
       "    </tr>\n",
       "    <tr>\n",
       "      <th>3</th>\n",
       "      <td>Creditworthy</td>\n",
       "      <td>Some Balance</td>\n",
       "      <td>4</td>\n",
       "      <td>No Problems (in this bank)</td>\n",
       "      <td>Home Related</td>\n",
       "      <td>3380</td>\n",
       "      <td>None</td>\n",
       "      <td>1-4 yrs</td>\n",
       "      <td>1</td>\n",
       "      <td>1</td>\n",
       "      <td>37.0</td>\n",
       "      <td>2</td>\n",
       "      <td>1</td>\n",
       "      <td>1</td>\n",
       "    </tr>\n",
       "    <tr>\n",
       "      <th>4</th>\n",
       "      <td>Creditworthy</td>\n",
       "      <td>No Account</td>\n",
       "      <td>6</td>\n",
       "      <td>Paid Up</td>\n",
       "      <td>Home Related</td>\n",
       "      <td>343</td>\n",
       "      <td>None</td>\n",
       "      <td>&lt; 1yr</td>\n",
       "      <td>4</td>\n",
       "      <td>1</td>\n",
       "      <td>27.0</td>\n",
       "      <td>2</td>\n",
       "      <td>1</td>\n",
       "      <td>1</td>\n",
       "    </tr>\n",
       "  </tbody>\n",
       "</table>\n",
       "</div>"
      ],
      "text/plain": [
       "  Credit-Application-Result Account-Balance  Duration-of-Credit-Month  \\\n",
       "0              Creditworthy    Some Balance                         4   \n",
       "1              Creditworthy    Some Balance                         4   \n",
       "2              Creditworthy    Some Balance                         4   \n",
       "3              Creditworthy    Some Balance                         4   \n",
       "4              Creditworthy      No Account                         6   \n",
       "\n",
       "  Payment-Status-of-Previous-Credit       Purpose  Credit-Amount  \\\n",
       "0                           Paid Up         Other           1494   \n",
       "1                           Paid Up  Home Related           1494   \n",
       "2        No Problems (in this bank)  Home Related           1544   \n",
       "3        No Problems (in this bank)  Home Related           3380   \n",
       "4                           Paid Up  Home Related            343   \n",
       "\n",
       "  Value-Savings-Stocks Length-of-current-employment  Instalment-per-cent  \\\n",
       "0           £100-£1000                        < 1yr                    1   \n",
       "1           £100-£1000                        < 1yr                    1   \n",
       "2                 None                      1-4 yrs                    2   \n",
       "3                 None                      1-4 yrs                    1   \n",
       "4                 None                        < 1yr                    4   \n",
       "\n",
       "   Most-valuable-available-asset  Age-years  Type-of-apartment  \\\n",
       "0                              1       33.0                  2   \n",
       "1                              1       29.0                  2   \n",
       "2                              1       42.0                  2   \n",
       "3                              1       37.0                  2   \n",
       "4                              1       27.0                  2   \n",
       "\n",
       "  No-of-Credits-at-this-Bank  Telephone  \n",
       "0                          1          1  \n",
       "1                          1          1  \n",
       "2                More than 1          1  \n",
       "3                          1          1  \n",
       "4                          1          1  "
      ]
     },
     "execution_count": 15,
     "metadata": {},
     "output_type": "execute_result"
    }
   ],
   "source": [
    "training_data.head()"
   ]
  },
  {
   "cell_type": "code",
   "execution_count": 16,
   "metadata": {
    "ExecuteTime": {
     "end_time": "2021-10-20T03:36:42.390363Z",
     "start_time": "2021-10-20T03:36:42.375770Z"
    }
   },
   "outputs": [
    {
     "data": {
      "text/plain": [
       "Index(['Duration-of-Credit-Month', 'Credit-Amount', 'Instalment-per-cent',\n",
       "       'Most-valuable-available-asset', 'Age-years', 'Type-of-apartment',\n",
       "       'Telephone', 'Credit-Application-Result_Creditworthy',\n",
       "       'Credit-Application-Result_Non-Creditworthy',\n",
       "       'Account-Balance_No Account', 'Account-Balance_Some Balance',\n",
       "       'Payment-Status-of-Previous-Credit_No Problems (in this bank)',\n",
       "       'Payment-Status-of-Previous-Credit_Paid Up',\n",
       "       'Payment-Status-of-Previous-Credit_Some Problems',\n",
       "       'Purpose_Home Related', 'Purpose_New car', 'Purpose_Other',\n",
       "       'Purpose_Used car', 'Value-Savings-Stocks_< £100',\n",
       "       'Value-Savings-Stocks_None', 'Value-Savings-Stocks_£100-£1000',\n",
       "       'Length-of-current-employment_1-4 yrs',\n",
       "       'Length-of-current-employment_4-7 yrs',\n",
       "       'Length-of-current-employment_< 1yr', 'No-of-Credits-at-this-Bank_1',\n",
       "       'No-of-Credits-at-this-Bank_More than 1'],\n",
       "      dtype='object')"
      ]
     },
     "execution_count": 16,
     "metadata": {},
     "output_type": "execute_result"
    }
   ],
   "source": [
    "df1=pd.get_dummies(training_data)\n",
    "df1.columns"
   ]
  },
  {
   "cell_type": "code",
   "execution_count": 17,
   "metadata": {
    "ExecuteTime": {
     "end_time": "2021-10-20T03:51:40.313854Z",
     "start_time": "2021-10-20T03:51:40.309365Z"
    }
   },
   "outputs": [],
   "source": [
    "training_data.replace(\"No Account\", \"No_Account\", inplace=True)"
   ]
  },
  {
   "cell_type": "code",
   "execution_count": 18,
   "metadata": {
    "ExecuteTime": {
     "end_time": "2021-10-20T03:55:06.330373Z",
     "start_time": "2021-10-20T03:55:06.326710Z"
    }
   },
   "outputs": [],
   "source": [
    "X = training_data.drop(\"Credit-Application-Result\", axis=1)\n",
    "y = training_data[[\"Credit-Application-Result\"]]"
   ]
  },
  {
   "cell_type": "code",
   "execution_count": 19,
   "metadata": {
    "ExecuteTime": {
     "end_time": "2021-10-20T03:55:07.180265Z",
     "start_time": "2021-10-20T03:55:07.176444Z"
    }
   },
   "outputs": [
    {
     "data": {
      "text/plain": [
       "Index(['Credit-Application-Result', 'Account-Balance',\n",
       "       'Duration-of-Credit-Month', 'Payment-Status-of-Previous-Credit',\n",
       "       'Purpose', 'Credit-Amount', 'Value-Savings-Stocks',\n",
       "       'Length-of-current-employment', 'Instalment-per-cent',\n",
       "       'Most-valuable-available-asset', 'Age-years', 'Type-of-apartment',\n",
       "       'No-of-Credits-at-this-Bank', 'Telephone'],\n",
       "      dtype='object')"
      ]
     },
     "execution_count": 19,
     "metadata": {},
     "output_type": "execute_result"
    }
   ],
   "source": [
    "training_data.columns"
   ]
  },
  {
   "cell_type": "code",
   "execution_count": 20,
   "metadata": {
    "ExecuteTime": {
     "end_time": "2021-10-20T03:55:08.010941Z",
     "start_time": "2021-10-20T03:55:08.006507Z"
    }
   },
   "outputs": [],
   "source": [
    "y= pd.get_dummies(y, drop_first=True)"
   ]
  },
  {
   "cell_type": "code",
   "execution_count": 21,
   "metadata": {
    "ExecuteTime": {
     "end_time": "2021-10-20T03:55:09.977113Z",
     "start_time": "2021-10-20T03:55:09.970722Z"
    }
   },
   "outputs": [
    {
     "data": {
      "text/html": [
       "<div>\n",
       "<style scoped>\n",
       "    .dataframe tbody tr th:only-of-type {\n",
       "        vertical-align: middle;\n",
       "    }\n",
       "\n",
       "    .dataframe tbody tr th {\n",
       "        vertical-align: top;\n",
       "    }\n",
       "\n",
       "    .dataframe thead th {\n",
       "        text-align: right;\n",
       "    }\n",
       "</style>\n",
       "<table border=\"1\" class=\"dataframe\">\n",
       "  <thead>\n",
       "    <tr style=\"text-align: right;\">\n",
       "      <th></th>\n",
       "      <th>Credit-Application-Result_Non-Creditworthy</th>\n",
       "    </tr>\n",
       "  </thead>\n",
       "  <tbody>\n",
       "    <tr>\n",
       "      <th>0</th>\n",
       "      <td>0</td>\n",
       "    </tr>\n",
       "    <tr>\n",
       "      <th>1</th>\n",
       "      <td>0</td>\n",
       "    </tr>\n",
       "    <tr>\n",
       "      <th>2</th>\n",
       "      <td>0</td>\n",
       "    </tr>\n",
       "    <tr>\n",
       "      <th>3</th>\n",
       "      <td>0</td>\n",
       "    </tr>\n",
       "    <tr>\n",
       "      <th>4</th>\n",
       "      <td>0</td>\n",
       "    </tr>\n",
       "  </tbody>\n",
       "</table>\n",
       "</div>"
      ],
      "text/plain": [
       "   Credit-Application-Result_Non-Creditworthy\n",
       "0                                           0\n",
       "1                                           0\n",
       "2                                           0\n",
       "3                                           0\n",
       "4                                           0"
      ]
     },
     "execution_count": 21,
     "metadata": {},
     "output_type": "execute_result"
    }
   ],
   "source": [
    "y.head()"
   ]
  },
  {
   "cell_type": "code",
   "execution_count": 22,
   "metadata": {
    "ExecuteTime": {
     "end_time": "2021-10-20T03:55:13.831202Z",
     "start_time": "2021-10-20T03:55:13.818132Z"
    }
   },
   "outputs": [],
   "source": [
    "X = pd.get_dummies(X)"
   ]
  },
  {
   "cell_type": "code",
   "execution_count": 23,
   "metadata": {
    "ExecuteTime": {
     "end_time": "2021-10-20T03:55:14.641208Z",
     "start_time": "2021-10-20T03:55:14.637236Z"
    }
   },
   "outputs": [
    {
     "data": {
      "text/plain": [
       "Index(['Credit-Application-Result_Non-Creditworthy'], dtype='object')"
      ]
     },
     "execution_count": 23,
     "metadata": {},
     "output_type": "execute_result"
    }
   ],
   "source": [
    "y.columns"
   ]
  },
  {
   "cell_type": "code",
   "execution_count": 24,
   "metadata": {
    "ExecuteTime": {
     "end_time": "2021-10-20T04:17:27.621188Z",
     "start_time": "2021-10-20T04:17:27.582638Z"
    },
    "scrolled": true
   },
   "outputs": [],
   "source": [
    "from imblearn.over_sampling import SMOTE\n",
    "\n",
    "oversample = SMOTE()\n",
    "X, y = oversample.fit_resample(X, y)"
   ]
  },
  {
   "cell_type": "code",
   "execution_count": 25,
   "metadata": {
    "ExecuteTime": {
     "end_time": "2021-10-20T03:55:15.770031Z",
     "start_time": "2021-10-20T03:55:15.765073Z"
    }
   },
   "outputs": [],
   "source": [
    "from sklearn.model_selection import train_test_split\n",
    "\n",
    "# Split dataset into training set and test set\n",
    "X_train, X_test, y_train, y_test = train_test_split(X, y, test_size=0.3) # 70% training and 30% test"
   ]
  },
  {
   "cell_type": "code",
   "execution_count": 26,
   "metadata": {
    "ExecuteTime": {
     "end_time": "2021-10-20T04:05:22.151603Z",
     "start_time": "2021-10-20T04:05:22.127116Z"
    }
   },
   "outputs": [],
   "source": [
    "#Import Random Forest Model\n",
    "from sklearn.ensemble import RandomForestClassifier\n",
    "\n",
    "#Create a Gaussian Classifier\n",
    "clf=RandomForestClassifier(class_weight = {0:0.75, 1:0.25})\n",
    "\n",
    "#Train the model using the training sets y_pred=clf.predict(X_test)\n",
    "clf.fit(X_train,y_train)\n",
    "\n",
    "y_pred=clf.predict(X_test)"
   ]
  },
  {
   "cell_type": "code",
   "execution_count": 27,
   "metadata": {
    "ExecuteTime": {
     "end_time": "2021-10-20T04:05:22.956374Z",
     "start_time": "2021-10-20T04:05:22.952218Z"
    }
   },
   "outputs": [
    {
     "name": "stdout",
     "output_type": "stream",
     "text": [
      "Accuracy: 0.8558139534883721\n"
     ]
    }
   ],
   "source": [
    "#Import scikit-learn metrics module for accuracy calculation\n",
    "from sklearn import metrics\n",
    "# Model Accuracy, how often is the classifier correct?\n",
    "print(\"Accuracy:\",metrics.accuracy_score(y_test, y_pred))"
   ]
  },
  {
   "cell_type": "code",
   "execution_count": 28,
   "metadata": {
    "ExecuteTime": {
     "end_time": "2021-10-20T04:05:25.243910Z",
     "start_time": "2021-10-20T04:05:25.239320Z"
    }
   },
   "outputs": [
    {
     "data": {
      "text/plain": [
       "array([[92, 11],\n",
       "       [20, 92]])"
      ]
     },
     "execution_count": 28,
     "metadata": {},
     "output_type": "execute_result"
    }
   ],
   "source": [
    "from sklearn.metrics import confusion_matrix\n",
    "confusion_matrix(y_test, y_pred)"
   ]
  },
  {
   "cell_type": "code",
   "execution_count": 29,
   "metadata": {
    "ExecuteTime": {
     "end_time": "2021-10-20T04:07:43.885481Z",
     "start_time": "2021-10-20T04:07:43.879366Z"
    },
    "scrolled": true
   },
   "outputs": [
    {
     "name": "stdout",
     "output_type": "stream",
     "text": [
      "              precision    recall  f1-score   support\n",
      "\n",
      "           0       0.82      0.89      0.86       103\n",
      "           1       0.89      0.82      0.86       112\n",
      "\n",
      "    accuracy                           0.86       215\n",
      "   macro avg       0.86      0.86      0.86       215\n",
      "weighted avg       0.86      0.86      0.86       215\n",
      "\n"
     ]
    }
   ],
   "source": [
    "from sklearn.metrics import classification_report\n",
    "print(classification_report(y_test, y_pred))"
   ]
  },
  {
   "cell_type": "code",
   "execution_count": 30,
   "metadata": {
    "ExecuteTime": {
     "end_time": "2021-10-20T04:00:53.526532Z",
     "start_time": "2021-10-20T04:00:53.507654Z"
    }
   },
   "outputs": [
    {
     "data": {
      "text/html": [
       "<div>\n",
       "<style scoped>\n",
       "    .dataframe tbody tr th:only-of-type {\n",
       "        vertical-align: middle;\n",
       "    }\n",
       "\n",
       "    .dataframe tbody tr th {\n",
       "        vertical-align: top;\n",
       "    }\n",
       "\n",
       "    .dataframe thead th {\n",
       "        text-align: right;\n",
       "    }\n",
       "</style>\n",
       "<table border=\"1\" class=\"dataframe\">\n",
       "  <thead>\n",
       "    <tr style=\"text-align: right;\">\n",
       "      <th></th>\n",
       "      <th>Duration-of-Credit-Month</th>\n",
       "      <th>Credit-Amount</th>\n",
       "      <th>Instalment-per-cent</th>\n",
       "      <th>Most-valuable-available-asset</th>\n",
       "      <th>Age-years</th>\n",
       "      <th>Type-of-apartment</th>\n",
       "      <th>Telephone</th>\n",
       "      <th>Account-Balance_No_Account</th>\n",
       "      <th>Account-Balance_Some Balance</th>\n",
       "      <th>Payment-Status-of-Previous-Credit_No Problems (in this bank)</th>\n",
       "      <th>...</th>\n",
       "      <th>Purpose_Other</th>\n",
       "      <th>Purpose_Used car</th>\n",
       "      <th>Value-Savings-Stocks_&lt; £100</th>\n",
       "      <th>Value-Savings-Stocks_None</th>\n",
       "      <th>Value-Savings-Stocks_£100-£1000</th>\n",
       "      <th>Length-of-current-employment_1-4 yrs</th>\n",
       "      <th>Length-of-current-employment_4-7 yrs</th>\n",
       "      <th>Length-of-current-employment_&lt; 1yr</th>\n",
       "      <th>No-of-Credits-at-this-Bank_1</th>\n",
       "      <th>No-of-Credits-at-this-Bank_More than 1</th>\n",
       "    </tr>\n",
       "  </thead>\n",
       "  <tbody>\n",
       "    <tr>\n",
       "      <th>0</th>\n",
       "      <td>4</td>\n",
       "      <td>1494</td>\n",
       "      <td>1</td>\n",
       "      <td>1</td>\n",
       "      <td>33.0</td>\n",
       "      <td>2</td>\n",
       "      <td>1</td>\n",
       "      <td>0</td>\n",
       "      <td>1</td>\n",
       "      <td>0</td>\n",
       "      <td>...</td>\n",
       "      <td>1</td>\n",
       "      <td>0</td>\n",
       "      <td>0</td>\n",
       "      <td>0</td>\n",
       "      <td>1</td>\n",
       "      <td>0</td>\n",
       "      <td>0</td>\n",
       "      <td>1</td>\n",
       "      <td>1</td>\n",
       "      <td>0</td>\n",
       "    </tr>\n",
       "    <tr>\n",
       "      <th>1</th>\n",
       "      <td>4</td>\n",
       "      <td>1494</td>\n",
       "      <td>1</td>\n",
       "      <td>1</td>\n",
       "      <td>29.0</td>\n",
       "      <td>2</td>\n",
       "      <td>1</td>\n",
       "      <td>0</td>\n",
       "      <td>1</td>\n",
       "      <td>0</td>\n",
       "      <td>...</td>\n",
       "      <td>0</td>\n",
       "      <td>0</td>\n",
       "      <td>0</td>\n",
       "      <td>0</td>\n",
       "      <td>1</td>\n",
       "      <td>0</td>\n",
       "      <td>0</td>\n",
       "      <td>1</td>\n",
       "      <td>1</td>\n",
       "      <td>0</td>\n",
       "    </tr>\n",
       "    <tr>\n",
       "      <th>2</th>\n",
       "      <td>4</td>\n",
       "      <td>1544</td>\n",
       "      <td>2</td>\n",
       "      <td>1</td>\n",
       "      <td>42.0</td>\n",
       "      <td>2</td>\n",
       "      <td>1</td>\n",
       "      <td>0</td>\n",
       "      <td>1</td>\n",
       "      <td>1</td>\n",
       "      <td>...</td>\n",
       "      <td>0</td>\n",
       "      <td>0</td>\n",
       "      <td>0</td>\n",
       "      <td>1</td>\n",
       "      <td>0</td>\n",
       "      <td>1</td>\n",
       "      <td>0</td>\n",
       "      <td>0</td>\n",
       "      <td>0</td>\n",
       "      <td>1</td>\n",
       "    </tr>\n",
       "    <tr>\n",
       "      <th>3</th>\n",
       "      <td>4</td>\n",
       "      <td>3380</td>\n",
       "      <td>1</td>\n",
       "      <td>1</td>\n",
       "      <td>37.0</td>\n",
       "      <td>2</td>\n",
       "      <td>1</td>\n",
       "      <td>0</td>\n",
       "      <td>1</td>\n",
       "      <td>1</td>\n",
       "      <td>...</td>\n",
       "      <td>0</td>\n",
       "      <td>0</td>\n",
       "      <td>0</td>\n",
       "      <td>1</td>\n",
       "      <td>0</td>\n",
       "      <td>1</td>\n",
       "      <td>0</td>\n",
       "      <td>0</td>\n",
       "      <td>1</td>\n",
       "      <td>0</td>\n",
       "    </tr>\n",
       "    <tr>\n",
       "      <th>4</th>\n",
       "      <td>6</td>\n",
       "      <td>343</td>\n",
       "      <td>4</td>\n",
       "      <td>1</td>\n",
       "      <td>27.0</td>\n",
       "      <td>2</td>\n",
       "      <td>1</td>\n",
       "      <td>1</td>\n",
       "      <td>0</td>\n",
       "      <td>0</td>\n",
       "      <td>...</td>\n",
       "      <td>0</td>\n",
       "      <td>0</td>\n",
       "      <td>0</td>\n",
       "      <td>1</td>\n",
       "      <td>0</td>\n",
       "      <td>0</td>\n",
       "      <td>0</td>\n",
       "      <td>1</td>\n",
       "      <td>1</td>\n",
       "      <td>0</td>\n",
       "    </tr>\n",
       "  </tbody>\n",
       "</table>\n",
       "<p>5 rows × 24 columns</p>\n",
       "</div>"
      ],
      "text/plain": [
       "   Duration-of-Credit-Month  Credit-Amount  Instalment-per-cent  \\\n",
       "0                         4           1494                    1   \n",
       "1                         4           1494                    1   \n",
       "2                         4           1544                    2   \n",
       "3                         4           3380                    1   \n",
       "4                         6            343                    4   \n",
       "\n",
       "   Most-valuable-available-asset  Age-years  Type-of-apartment  Telephone  \\\n",
       "0                              1       33.0                  2          1   \n",
       "1                              1       29.0                  2          1   \n",
       "2                              1       42.0                  2          1   \n",
       "3                              1       37.0                  2          1   \n",
       "4                              1       27.0                  2          1   \n",
       "\n",
       "   Account-Balance_No_Account  Account-Balance_Some Balance  \\\n",
       "0                           0                             1   \n",
       "1                           0                             1   \n",
       "2                           0                             1   \n",
       "3                           0                             1   \n",
       "4                           1                             0   \n",
       "\n",
       "   Payment-Status-of-Previous-Credit_No Problems (in this bank)  ...  \\\n",
       "0                                                  0             ...   \n",
       "1                                                  0             ...   \n",
       "2                                                  1             ...   \n",
       "3                                                  1             ...   \n",
       "4                                                  0             ...   \n",
       "\n",
       "   Purpose_Other  Purpose_Used car  Value-Savings-Stocks_< £100  \\\n",
       "0              1                 0                            0   \n",
       "1              0                 0                            0   \n",
       "2              0                 0                            0   \n",
       "3              0                 0                            0   \n",
       "4              0                 0                            0   \n",
       "\n",
       "   Value-Savings-Stocks_None  Value-Savings-Stocks_£100-£1000  \\\n",
       "0                          0                                1   \n",
       "1                          0                                1   \n",
       "2                          1                                0   \n",
       "3                          1                                0   \n",
       "4                          1                                0   \n",
       "\n",
       "   Length-of-current-employment_1-4 yrs  Length-of-current-employment_4-7 yrs  \\\n",
       "0                                     0                                     0   \n",
       "1                                     0                                     0   \n",
       "2                                     1                                     0   \n",
       "3                                     1                                     0   \n",
       "4                                     0                                     0   \n",
       "\n",
       "   Length-of-current-employment_< 1yr  No-of-Credits-at-this-Bank_1  \\\n",
       "0                                   1                             1   \n",
       "1                                   1                             1   \n",
       "2                                   0                             0   \n",
       "3                                   0                             1   \n",
       "4                                   1                             1   \n",
       "\n",
       "   No-of-Credits-at-this-Bank_More than 1  \n",
       "0                                       0  \n",
       "1                                       0  \n",
       "2                                       1  \n",
       "3                                       0  \n",
       "4                                       0  \n",
       "\n",
       "[5 rows x 24 columns]"
      ]
     },
     "execution_count": 30,
     "metadata": {},
     "output_type": "execute_result"
    }
   ],
   "source": [
    "X.head()"
   ]
  },
  {
   "cell_type": "code",
   "execution_count": 31,
   "metadata": {
    "ExecuteTime": {
     "end_time": "2021-10-20T03:48:21.336530Z",
     "start_time": "2021-10-20T03:48:21.321846Z"
    }
   },
   "outputs": [
    {
     "name": "stdout",
     "output_type": "stream",
     "text": [
      "<class 'pandas.core.frame.DataFrame'>\n",
      "RangeIndex: 716 entries, 0 to 715\n",
      "Data columns (total 24 columns):\n",
      " #   Column                                                        Non-Null Count  Dtype  \n",
      "---  ------                                                        --------------  -----  \n",
      " 0   Duration-of-Credit-Month                                      716 non-null    int64  \n",
      " 1   Credit-Amount                                                 716 non-null    int64  \n",
      " 2   Instalment-per-cent                                           716 non-null    int64  \n",
      " 3   Most-valuable-available-asset                                 716 non-null    int64  \n",
      " 4   Age-years                                                     716 non-null    float64\n",
      " 5   Type-of-apartment                                             716 non-null    int64  \n",
      " 6   Telephone                                                     716 non-null    int64  \n",
      " 7   Account-Balance_No_Account                                    716 non-null    uint8  \n",
      " 8   Account-Balance_Some Balance                                  716 non-null    uint8  \n",
      " 9   Payment-Status-of-Previous-Credit_No Problems (in this bank)  716 non-null    uint8  \n",
      " 10  Payment-Status-of-Previous-Credit_Paid Up                     716 non-null    uint8  \n",
      " 11  Payment-Status-of-Previous-Credit_Some Problems               716 non-null    uint8  \n",
      " 12  Purpose_Home Related                                          716 non-null    uint8  \n",
      " 13  Purpose_New car                                               716 non-null    uint8  \n",
      " 14  Purpose_Other                                                 716 non-null    uint8  \n",
      " 15  Purpose_Used car                                              716 non-null    uint8  \n",
      " 16  Value-Savings-Stocks_< £100                                   716 non-null    uint8  \n",
      " 17  Value-Savings-Stocks_None                                     716 non-null    uint8  \n",
      " 18  Value-Savings-Stocks_£100-£1000                               716 non-null    uint8  \n",
      " 19  Length-of-current-employment_1-4 yrs                          716 non-null    uint8  \n",
      " 20  Length-of-current-employment_4-7 yrs                          716 non-null    uint8  \n",
      " 21  Length-of-current-employment_< 1yr                            716 non-null    uint8  \n",
      " 22  No-of-Credits-at-this-Bank_1                                  716 non-null    uint8  \n",
      " 23  No-of-Credits-at-this-Bank_More than 1                        716 non-null    uint8  \n",
      "dtypes: float64(1), int64(6), uint8(17)\n",
      "memory usage: 51.2 KB\n"
     ]
    }
   ],
   "source": [
    "X.info()"
   ]
  },
  {
   "cell_type": "code",
   "execution_count": 32,
   "metadata": {},
   "outputs": [
    {
     "data": {
      "text/plain": [
       "Credit-Amount                                                   0.137365\n",
       "Duration-of-Credit-Month                                        0.117648\n",
       "Account-Balance_Some Balance                                    0.111286\n",
       "Age-years                                                       0.095436\n",
       "Value-Savings-Stocks_£100-£1000                                 0.047998\n",
       "Most-valuable-available-asset                                   0.046421\n",
       "Instalment-per-cent                                             0.046052\n",
       "Account-Balance_No_Account                                      0.037096\n",
       "No-of-Credits-at-this-Bank_1                                    0.036475\n",
       "Payment-Status-of-Previous-Credit_Paid Up                       0.032608\n",
       "Length-of-current-employment_< 1yr                              0.032065\n",
       "Payment-Status-of-Previous-Credit_No Problems (in this bank)    0.029697\n",
       "Type-of-apartment                                               0.028542\n",
       "Length-of-current-employment_1-4 yrs                            0.025724\n",
       "Length-of-current-employment_4-7 yrs                            0.025032\n",
       "Value-Savings-Stocks_None                                       0.024102\n",
       "No-of-Credits-at-this-Bank_More than 1                          0.020333\n",
       "Purpose_Home Related                                            0.020030\n",
       "Telephone                                                       0.019353\n",
       "Purpose_Used car                                                0.018295\n",
       "Purpose_New car                                                 0.016296\n",
       "Value-Savings-Stocks_< £100                                     0.015031\n",
       "Payment-Status-of-Previous-Credit_Some Problems                 0.013587\n",
       "Purpose_Other                                                   0.003528\n",
       "dtype: float64"
      ]
     },
     "execution_count": 32,
     "metadata": {},
     "output_type": "execute_result"
    }
   ],
   "source": [
    "feature_imp = pd.Series(clf.feature_importances_,index=X.columns).sort_values(ascending=False)\n",
    "feature_imp"
   ]
  },
  {
   "cell_type": "code",
   "execution_count": 33,
   "metadata": {},
   "outputs": [
    {
     "data": {
      "text/plain": [
       "Credit-Amount                                                   0.137365\n",
       "Duration-of-Credit-Month                                        0.117648\n",
       "Account-Balance_Some Balance                                    0.111286\n",
       "Age-years                                                       0.095436\n",
       "Value-Savings-Stocks_£100-£1000                                 0.047998\n",
       "Most-valuable-available-asset                                   0.046421\n",
       "Instalment-per-cent                                             0.046052\n",
       "Account-Balance_No_Account                                      0.037096\n",
       "No-of-Credits-at-this-Bank_1                                    0.036475\n",
       "Payment-Status-of-Previous-Credit_Paid Up                       0.032608\n",
       "Length-of-current-employment_< 1yr                              0.032065\n",
       "Payment-Status-of-Previous-Credit_No Problems (in this bank)    0.029697\n",
       "Type-of-apartment                                               0.028542\n",
       "Length-of-current-employment_1-4 yrs                            0.025724\n",
       "Length-of-current-employment_4-7 yrs                            0.025032\n",
       "Value-Savings-Stocks_None                                       0.024102\n",
       "No-of-Credits-at-this-Bank_More than 1                          0.020333\n",
       "Purpose_Home Related                                            0.020030\n",
       "Telephone                                                       0.019353\n",
       "Purpose_Used car                                                0.018295\n",
       "Purpose_New car                                                 0.016296\n",
       "Value-Savings-Stocks_< £100                                     0.015031\n",
       "Payment-Status-of-Previous-Credit_Some Problems                 0.013587\n",
       "dtype: float64"
      ]
     },
     "execution_count": 33,
     "metadata": {},
     "output_type": "execute_result"
    }
   ],
   "source": [
    "feature_imp = feature_imp[feature_imp >= 0.01]\n",
    "feature_imp"
   ]
  },
  {
   "cell_type": "code",
   "execution_count": 34,
   "metadata": {},
   "outputs": [
    {
     "data": {
      "image/png": "[encoded data removed]",
      "text/plain": [
       "<Figure size 720x720 with 1 Axes>"
      ]
     },
     "metadata": {
      "needs_background": "light"
     },
     "output_type": "display_data"
    }
   ],
   "source": [
    "fig = plt.figure(figsize = (10, 10))\n",
    "# Creating a bar plot\n",
    "sns.barplot(x=feature_imp, y=feature_imp.index)\n",
    "# Add labels to your graph\n",
    "plt.xlabel('Feature Importance Score')\n",
    "plt.ylabel('Features')\n",
    "plt.title(\"Visualizing Important Features\")\n",
    "plt.show()"
   ]
  },
  {
   "cell_type": "markdown",
   "metadata": {},
   "source": [
    "I dropped the feature with Feature Importance Score is less than 0.01.\n",
    "- Purpose_Other "
   ]
  },
  {
   "cell_type": "markdown",
   "metadata": {},
   "source": [
    "This model chose 'Credit-Amount', 'Duration-of-Credit-Month' to be by far the most important variables. Followed by 'Account-Balance_Some Balance' and 'Age-years'."
   ]
  },
  {
   "cell_type": "code",
   "execution_count": null,
   "metadata": {},
   "outputs": [],
   "source": []
  }
 ],
 "metadata": {
  "kernelspec": {
   "display_name": "Python 3 (ipykernel)",
   "language": "python",
   "name": "python3"
  },
  "language_info": {
   "codemirror_mode": {
    "name": "ipython",
    "version": 3
   },
   "file_extension": ".py",
   "mimetype": "text/x-python",
   "name": "python",
   "nbconvert_exporter": "python",
   "pygments_lexer": "ipython3",
   "version": "3.7.11"
  },
  "toc": {
   "base_numbering": 1,
   "nav_menu": {},
   "number_sections": false,
   "sideBar": true,
   "skip_h1_title": false,
   "title_cell": "Table of Contents",
   "title_sidebar": "Contents",
   "toc_cell": false,
   "toc_position": {},
   "toc_section_display": true,
   "toc_window_display": false
  }
 },
 "nbformat": 4,
 "nbformat_minor": 2
}
